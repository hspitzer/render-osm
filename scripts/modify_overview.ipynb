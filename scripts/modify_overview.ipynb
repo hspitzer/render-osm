{
 "cells": [
  {
   "cell_type": "markdown",
   "id": "1143db8a-95fe-4845-885c-0e79b39ce35b",
   "metadata": {},
   "source": [
    "put each tracksegment in separate tracks, add running number as name"
   ]
  },
  {
   "cell_type": "code",
   "execution_count": 8,
   "id": "36627847-222b-4789-b126-b738d11a7632",
   "metadata": {},
   "outputs": [],
   "source": [
    "import gpxpy"
   ]
  },
  {
   "cell_type": "code",
   "execution_count": 9,
   "id": "e6d9779a-1a6b-48b9-8d85-e1a8da24aeaa",
   "metadata": {},
   "outputs": [],
   "source": [
    "with open('hikingmap_overview_large.gpx', 'r') as f:\n",
    "    gpx = gpxpy.parse(f)\n",
    "    for i, track in enumerate(gpx.tracks):\n",
    "        track.name = f'page {i+1}'\n",
    "            "
   ]
  },
  {
   "cell_type": "code",
   "execution_count": 10,
   "id": "ae2f7bda-2d7d-4657-9851-9b344e6d66f3",
   "metadata": {},
   "outputs": [],
   "source": [
    "with open('hikingmap_overview_large.gpx', 'w') as f:\n",
    "    f.write(gpx.to_xml())"
   ]
  },
  {
   "cell_type": "markdown",
   "id": "75a99f9f-cd17-4c5e-b450-ffdee6fa1394",
   "metadata": {},
   "source": [
    "change name to actual manual order"
   ]
  },
  {
   "cell_type": "code",
   "execution_count": 7,
   "id": "17bb02b9-522a-47d5-97ce-6f3d7f878485",
   "metadata": {},
   "outputs": [],
   "source": [
    "import glob\n",
    "import numpy as np\n",
    "import re"
   ]
  },
  {
   "cell_type": "code",
   "execution_count": 24,
   "id": "baf594ad-cfd3-47e7-b39c-f6c588a0b508",
   "metadata": {
    "collapsed": true,
    "jupyter": {
     "outputs_hidden": true
    },
    "tags": []
   },
   "outputs": [
    {
     "name": "stdout",
     "output_type": "stream",
     "text": [
      "['01', '01']\n",
      "['02', '22']\n",
      "['03', '02']\n",
      "['04', '23']\n",
      "['05', '03']\n",
      "['06', '38']\n",
      "['07', '04']\n",
      "['08', '39']\n",
      "['09', '05']\n",
      "['10', '06']\n",
      "['11', '40']\n",
      "['12', '41']\n",
      "['13', '07']\n",
      "['14', '25']\n",
      "['15', '08']\n",
      "['16', '26']\n",
      "['17', '42']\n",
      "['18', '43']\n",
      "['19', '09']\n",
      "['20', '27']\n",
      "['21', '10']\n",
      "['22', '28']\n",
      "['23', '11']\n",
      "['24', '29']\n",
      "['25', '44']\n",
      "['26', '30']\n",
      "['27', '12']\n",
      "['28', '31']\n",
      "['29', '13']\n",
      "['30', '45']\n",
      "['31', '14']\n",
      "['32', '32']\n",
      "['33', '15']\n",
      "['34', '47']\n",
      "['35', '16']\n",
      "['36', '48']\n",
      "['37', '17']\n",
      "['38', '49']\n",
      "['39', '18']\n",
      "['40', '50']\n",
      "['41', '19']\n",
      "['42', '51']\n",
      "['43', '20']\n",
      "['44', '52']\n",
      "['45', '21']\n",
      "['46', '53']\n"
     ]
    }
   ],
   "source": [
    "order = np.full(len(gpx.tracks), None)\n",
    "for f in sorted(glob.glob('maps/final/*hrp*.pdf')):\n",
    "    res = re.findall(r'\\d\\d', f)\n",
    "    if len(res) == 2:\n",
    "        print(res)\n",
    "        order[int(res[1])-1] = int(res[0])"
   ]
  },
  {
   "cell_type": "code",
   "execution_count": 30,
   "id": "741f957a-f774-47ea-a3e3-93b86b352939",
   "metadata": {},
   "outputs": [],
   "source": [
    "with open('hikingmap_overview_large.gpx', 'r') as f:\n",
    "    gpx = gpxpy.parse(f)\n",
    "    tracks = []\n",
    "    for i, track in enumerate(gpx.tracks):\n",
    "        if order[i] is not None:\n",
    "            track.name = f'page {order[i]}'\n",
    "            tracks.append(track)\n",
    "    gpx.tracks = tracks"
   ]
  },
  {
   "cell_type": "code",
   "execution_count": 32,
   "id": "52959e56-d31c-49aa-b450-fe78cdf8a9a2",
   "metadata": {},
   "outputs": [],
   "source": [
    "with open('hikingmap_overview_large_final.gpx', 'w') as f:\n",
    "    f.write(gpx.to_xml())"
   ]
  },
  {
   "cell_type": "code",
   "execution_count": null,
   "id": "84ce2fcf-1c90-497e-b188-f4852e9c18ed",
   "metadata": {},
   "outputs": [],
   "source": []
  }
 ],
 "metadata": {
  "kernelspec": {
   "display_name": "Python 3",
   "language": "python",
   "name": "python3"
  },
  "language_info": {
   "codemirror_mode": {
    "name": "ipython",
    "version": 3
   },
   "file_extension": ".py",
   "mimetype": "text/x-python",
   "name": "python",
   "nbconvert_exporter": "python",
   "pygments_lexer": "ipython3",
   "version": "3.8.8"
  }
 },
 "nbformat": 4,
 "nbformat_minor": 5
}
